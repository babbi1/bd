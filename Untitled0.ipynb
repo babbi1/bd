{
  "nbformat": 4,
  "nbformat_minor": 0,
  "metadata": {
    "colab": {
      "name": "Untitled0.ipynb",
      "version": "0.3.2",
      "provenance": [],
      "include_colab_link": true
    },
    "kernelspec": {
      "name": "python3",
      "display_name": "Python 3"
    }
  },
  "cells": [
    {
      "cell_type": "markdown",
      "metadata": {
        "id": "view-in-github",
        "colab_type": "text"
      },
      "source": [
        "<a href=\"https://colab.research.google.com/github/babbi1/bd/blob/master/Untitled0.ipynb\" target=\"_parent\"><img src=\"https://colab.research.google.com/assets/colab-badge.svg\" alt=\"Open In Colab\"/></a>"
      ]
    },
    {
      "metadata": {
        "id": "tJ2SuQEmhRvn",
        "colab_type": "code",
        "outputId": "03561aaf-35cb-4fdf-a6bc-104d3871a298",
        "colab": {
          "base_uri": "https://localhost:8080/",
          "height": 377
        }
      },
      "cell_type": "code",
      "source": [
        "help()\n"
      ],
      "execution_count": 0,
      "outputs": [
        {
          "output_type": "stream",
          "text": [
            "\n",
            "Welcome to Python 3.6's help utility!\n",
            "\n",
            "If this is your first time using Python, you should definitely check out\n",
            "the tutorial on the Internet at https://docs.python.org/3.6/tutorial/.\n",
            "\n",
            "Enter the name of any module, keyword, or topic to get help on writing\n",
            "Python programs and using Python modules.  To quit this help utility and\n",
            "return to the interpreter, just type \"quit\".\n",
            "\n",
            "To get a list of available modules, keywords, symbols, or topics, type\n",
            "\"modules\", \"keywords\", \"symbols\", or \"topics\".  Each module also comes\n",
            "with a one-line summary of what it does; to list the modules whose name\n",
            "or summary contain a given string such as \"spam\", type \"modules spam\".\n",
            "\n",
            "\n",
            "You are now leaving help and returning to the Python interpreter.\n",
            "If you want to ask for help on a particular object directly from the\n",
            "interpreter, you can type \"help(object)\".  Executing \"help('string')\"\n",
            "has the same effect as typing a particular string at the help> prompt.\n"
          ],
          "name": "stdout"
        }
      ]
    },
    {
      "metadata": {
        "id": "iDl4E6YIh0L5",
        "colab_type": "code",
        "outputId": "d11990ee-526b-410c-f8f0-4b8d5929a7a4",
        "colab": {
          "base_uri": "https://localhost:8080/",
          "height": 35
        }
      },
      "cell_type": "code",
      "source": [
        "a='hello word'\n",
        "b=len(a)\n",
        "al=a*b\n",
        "print(al)"
      ],
      "execution_count": 0,
      "outputs": [
        {
          "output_type": "stream",
          "text": [
            "hello wordhello wordhello wordhello wordhello wordhello wordhello wordhello wordhello wordhello word\n"
          ],
          "name": "stdout"
        }
      ]
    },
    {
      "metadata": {
        "id": "ynGZeq2wjAtk",
        "colab_type": "code",
        "outputId": "e2ff8307-1d88-4460-c35a-5a54fcd036d9",
        "colab": {
          "base_uri": "https://localhost:8080/",
          "height": 35
        }
      },
      "cell_type": "code",
      "source": [
        "print(a)"
      ],
      "execution_count": 0,
      "outputs": [
        {
          "output_type": "stream",
          "text": [
            "hello word\n"
          ],
          "name": "stdout"
        }
      ]
    },
    {
      "metadata": {
        "id": "8VKwQiV9iY0f",
        "colab_type": "code",
        "colab": {
          "base_uri": "https://localhost:8080/",
          "height": 179
        },
        "outputId": "a71d2c2f-3897-44f5-e321-46c9c3b55858"
      },
      "cell_type": "code",
      "source": [
        "def bmr():\n",
        "    print('您好，我可以帮您计算基础代谢率；')\n",
        "    a=input('需要计算请输入\"bmr\",如退出请输入\"q\"：')\n",
        "\n",
        "    while a=='bmr' or a=='BMR':\n",
        "        print(\"请输入以下信息，空格分割\")\n",
        "        str=input(\"性别 体重(kg） 身高（cm） 年龄：\")\n",
        "        strlist=str.split(\" \")\n",
        "        print(strlist)\n",
        "        print('您是{}性,今年{}岁，重{}kg,身高{}cm对吗？'.format(strlist[0],strlist[-1],strlist[1],strlist[2]))\n",
        "        xb = strlist[0]\n",
        "        nl = float(strlist[-1])\n",
        "        tz = float(strlist[1])\n",
        "        sg = float(strlist[-1])\n",
        "        if xb=='男':\n",
        "            bmrna = (13.7 * tz) + (5.0 * sg) - ( 6.8 * nl)+66\n",
        "            print('您的基础代谢率为：',bmrna)\n",
        "        elif xb == '女':\n",
        "            bmrnv = (9.6 * tz) + (1.0 * sg) - (4.7 * nl)+655\n",
        "            print('您的基础代谢率为：',bmrnv)\n",
        "        a=input('需要计算请输入\"bmr\",如退出请输入\"q\"：')\n",
        "\n",
        "    else:\n",
        "        input(\"退出请按回车\")\n",
        "\n",
        "bmr()"
      ],
      "execution_count": 11,
      "outputs": [
        {
          "output_type": "stream",
          "text": [
            "您好，我可以帮您计算基础代谢率；\n",
            "需要计算请输入\"bmr\",如退出请输入\"q\"：bmr\n",
            "请输入以下信息，空格分割\n",
            "性别 体重(kg） 身高（cm） 年龄：男 50 176 24\n",
            "['男', '50', '176', '24']\n",
            "您是男性,今年24岁，重50kg,身高176cm对吗？\n",
            "您的基础代谢率为： 707.8\n",
            "需要计算请输入\"bmr\",如退出请输入\"q\"：环境\n",
            "退出请按回车\n"
          ],
          "name": "stdout"
        }
      ]
    }
  ]
}